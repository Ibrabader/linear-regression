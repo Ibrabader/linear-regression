{
 "cells": [
  {
   "cell_type": "code",
   "execution_count": 1,
   "metadata": {},
   "outputs": [],
   "source": [
    "import pandas as pd\n",
    "import numpy as np\n",
    "import matplotlib.pyplot as plt\n",
    "from sklearn.linear_model import LinearRegression\n",
    "from sklearn.model_selection import train_test_split\n",
    "%matplotlib inline\n"
   ]
  },
  {
   "cell_type": "markdown",
   "metadata": {},
   "source": [
    "## DataFrame "
   ]
  },
  {
   "cell_type": "code",
   "execution_count": 4,
   "metadata": {},
   "outputs": [
    {
     "data": {
      "text/html": [
       "<div>\n",
       "<style scoped>\n",
       "    .dataframe tbody tr th:only-of-type {\n",
       "        vertical-align: middle;\n",
       "    }\n",
       "\n",
       "    .dataframe tbody tr th {\n",
       "        vertical-align: top;\n",
       "    }\n",
       "\n",
       "    .dataframe thead th {\n",
       "        text-align: right;\n",
       "    }\n",
       "</style>\n",
       "<table border=\"1\" class=\"dataframe\">\n",
       "  <thead>\n",
       "    <tr style=\"text-align: right;\">\n",
       "      <th></th>\n",
       "      <th>Height</th>\n",
       "      <th>Weight</th>\n",
       "    </tr>\n",
       "  </thead>\n",
       "  <tbody>\n",
       "    <tr>\n",
       "      <th>0</th>\n",
       "      <td>65.78</td>\n",
       "      <td>112.99</td>\n",
       "    </tr>\n",
       "    <tr>\n",
       "      <th>1</th>\n",
       "      <td>71.52</td>\n",
       "      <td>136.49</td>\n",
       "    </tr>\n",
       "    <tr>\n",
       "      <th>2</th>\n",
       "      <td>69.40</td>\n",
       "      <td>153.03</td>\n",
       "    </tr>\n",
       "    <tr>\n",
       "      <th>3</th>\n",
       "      <td>68.22</td>\n",
       "      <td>142.34</td>\n",
       "    </tr>\n",
       "    <tr>\n",
       "      <th>4</th>\n",
       "      <td>67.79</td>\n",
       "      <td>144.30</td>\n",
       "    </tr>\n",
       "    <tr>\n",
       "      <th>...</th>\n",
       "      <td>...</td>\n",
       "      <td>...</td>\n",
       "    </tr>\n",
       "    <tr>\n",
       "      <th>195</th>\n",
       "      <td>65.80</td>\n",
       "      <td>120.84</td>\n",
       "    </tr>\n",
       "    <tr>\n",
       "      <th>196</th>\n",
       "      <td>66.11</td>\n",
       "      <td>115.78</td>\n",
       "    </tr>\n",
       "    <tr>\n",
       "      <th>197</th>\n",
       "      <td>68.24</td>\n",
       "      <td>128.30</td>\n",
       "    </tr>\n",
       "    <tr>\n",
       "      <th>198</th>\n",
       "      <td>68.02</td>\n",
       "      <td>127.47</td>\n",
       "    </tr>\n",
       "    <tr>\n",
       "      <th>199</th>\n",
       "      <td>71.39</td>\n",
       "      <td>127.88</td>\n",
       "    </tr>\n",
       "  </tbody>\n",
       "</table>\n",
       "<p>200 rows × 2 columns</p>\n",
       "</div>"
      ],
      "text/plain": [
       "     Height  Weight\n",
       "0     65.78  112.99\n",
       "1     71.52  136.49\n",
       "2     69.40  153.03\n",
       "3     68.22  142.34\n",
       "4     67.79  144.30\n",
       "..      ...     ...\n",
       "195   65.80  120.84\n",
       "196   66.11  115.78\n",
       "197   68.24  128.30\n",
       "198   68.02  127.47\n",
       "199   71.39  127.88\n",
       "\n",
       "[200 rows x 2 columns]"
      ]
     },
     "execution_count": 4,
     "metadata": {},
     "output_type": "execute_result"
    }
   ],
   "source": [
    "data = pd.read_csv('csv.csv')\n",
    "data"
   ]
  },
  {
   "cell_type": "markdown",
   "metadata": {},
   "source": [
    "### first five rows of the data set"
   ]
  },
  {
   "cell_type": "code",
   "execution_count": 5,
   "metadata": {},
   "outputs": [
    {
     "data": {
      "text/html": [
       "<div>\n",
       "<style scoped>\n",
       "    .dataframe tbody tr th:only-of-type {\n",
       "        vertical-align: middle;\n",
       "    }\n",
       "\n",
       "    .dataframe tbody tr th {\n",
       "        vertical-align: top;\n",
       "    }\n",
       "\n",
       "    .dataframe thead th {\n",
       "        text-align: right;\n",
       "    }\n",
       "</style>\n",
       "<table border=\"1\" class=\"dataframe\">\n",
       "  <thead>\n",
       "    <tr style=\"text-align: right;\">\n",
       "      <th></th>\n",
       "      <th>Height</th>\n",
       "      <th>Weight</th>\n",
       "    </tr>\n",
       "  </thead>\n",
       "  <tbody>\n",
       "    <tr>\n",
       "      <th>0</th>\n",
       "      <td>65.78</td>\n",
       "      <td>112.99</td>\n",
       "    </tr>\n",
       "    <tr>\n",
       "      <th>1</th>\n",
       "      <td>71.52</td>\n",
       "      <td>136.49</td>\n",
       "    </tr>\n",
       "    <tr>\n",
       "      <th>2</th>\n",
       "      <td>69.40</td>\n",
       "      <td>153.03</td>\n",
       "    </tr>\n",
       "    <tr>\n",
       "      <th>3</th>\n",
       "      <td>68.22</td>\n",
       "      <td>142.34</td>\n",
       "    </tr>\n",
       "    <tr>\n",
       "      <th>4</th>\n",
       "      <td>67.79</td>\n",
       "      <td>144.30</td>\n",
       "    </tr>\n",
       "  </tbody>\n",
       "</table>\n",
       "</div>"
      ],
      "text/plain": [
       "   Height  Weight\n",
       "0   65.78  112.99\n",
       "1   71.52  136.49\n",
       "2   69.40  153.03\n",
       "3   68.22  142.34\n",
       "4   67.79  144.30"
      ]
     },
     "execution_count": 5,
     "metadata": {},
     "output_type": "execute_result"
    }
   ],
   "source": [
    "data.head(5)"
   ]
  },
  {
   "cell_type": "markdown",
   "metadata": {},
   "source": [
    "### Description of the data set "
   ]
  },
  {
   "cell_type": "code",
   "execution_count": 6,
   "metadata": {},
   "outputs": [
    {
     "data": {
      "text/html": [
       "<div>\n",
       "<style scoped>\n",
       "    .dataframe tbody tr th:only-of-type {\n",
       "        vertical-align: middle;\n",
       "    }\n",
       "\n",
       "    .dataframe tbody tr th {\n",
       "        vertical-align: top;\n",
       "    }\n",
       "\n",
       "    .dataframe thead th {\n",
       "        text-align: right;\n",
       "    }\n",
       "</style>\n",
       "<table border=\"1\" class=\"dataframe\">\n",
       "  <thead>\n",
       "    <tr style=\"text-align: right;\">\n",
       "      <th></th>\n",
       "      <th>Height</th>\n",
       "      <th>Weight</th>\n",
       "    </tr>\n",
       "  </thead>\n",
       "  <tbody>\n",
       "    <tr>\n",
       "      <th>count</th>\n",
       "      <td>200.000000</td>\n",
       "      <td>200.000000</td>\n",
       "    </tr>\n",
       "    <tr>\n",
       "      <th>mean</th>\n",
       "      <td>67.949800</td>\n",
       "      <td>127.221950</td>\n",
       "    </tr>\n",
       "    <tr>\n",
       "      <th>std</th>\n",
       "      <td>1.940363</td>\n",
       "      <td>11.960959</td>\n",
       "    </tr>\n",
       "    <tr>\n",
       "      <th>min</th>\n",
       "      <td>63.430000</td>\n",
       "      <td>97.900000</td>\n",
       "    </tr>\n",
       "    <tr>\n",
       "      <th>25%</th>\n",
       "      <td>66.522500</td>\n",
       "      <td>119.895000</td>\n",
       "    </tr>\n",
       "    <tr>\n",
       "      <th>50%</th>\n",
       "      <td>67.935000</td>\n",
       "      <td>127.875000</td>\n",
       "    </tr>\n",
       "    <tr>\n",
       "      <th>75%</th>\n",
       "      <td>69.202500</td>\n",
       "      <td>136.097500</td>\n",
       "    </tr>\n",
       "    <tr>\n",
       "      <th>max</th>\n",
       "      <td>73.900000</td>\n",
       "      <td>158.960000</td>\n",
       "    </tr>\n",
       "  </tbody>\n",
       "</table>\n",
       "</div>"
      ],
      "text/plain": [
       "           Height      Weight\n",
       "count  200.000000  200.000000\n",
       "mean    67.949800  127.221950\n",
       "std      1.940363   11.960959\n",
       "min     63.430000   97.900000\n",
       "25%     66.522500  119.895000\n",
       "50%     67.935000  127.875000\n",
       "75%     69.202500  136.097500\n",
       "max     73.900000  158.960000"
      ]
     },
     "execution_count": 6,
     "metadata": {},
     "output_type": "execute_result"
    }
   ],
   "source": [
    "data.describe()"
   ]
  },
  {
   "cell_type": "markdown",
   "metadata": {},
   "source": [
    "### Information of the data set "
   ]
  },
  {
   "cell_type": "code",
   "execution_count": 7,
   "metadata": {},
   "outputs": [
    {
     "name": "stdout",
     "output_type": "stream",
     "text": [
      "<class 'pandas.core.frame.DataFrame'>\n",
      "RangeIndex: 200 entries, 0 to 199\n",
      "Data columns (total 2 columns):\n",
      " #   Column  Non-Null Count  Dtype  \n",
      "---  ------  --------------  -----  \n",
      " 0   Height  200 non-null    float64\n",
      " 1   Weight  200 non-null    float64\n",
      "dtypes: float64(2)\n",
      "memory usage: 3.2 KB\n"
     ]
    }
   ],
   "source": [
    "data.info()"
   ]
  },
  {
   "cell_type": "markdown",
   "metadata": {},
   "source": [
    "### Using a regression model, spliting the data into train and test data."
   ]
  },
  {
   "cell_type": "code",
   "execution_count": 15,
   "metadata": {},
   "outputs": [
    {
     "data": {
      "text/plain": [
       "[array([[65.78],\n",
       "        [71.52],\n",
       "        [69.4 ],\n",
       "        [68.22],\n",
       "        [67.79],\n",
       "        [68.7 ],\n",
       "        [69.8 ],\n",
       "        [70.01],\n",
       "        [67.9 ],\n",
       "        [66.78],\n",
       "        [66.49],\n",
       "        [67.62],\n",
       "        [68.3 ],\n",
       "        [67.12],\n",
       "        [68.28],\n",
       "        [71.09],\n",
       "        [66.46],\n",
       "        [68.65],\n",
       "        [71.23],\n",
       "        [67.13],\n",
       "        [67.83],\n",
       "        [68.88],\n",
       "        [63.48],\n",
       "        [68.42],\n",
       "        [67.63],\n",
       "        [67.21],\n",
       "        [70.84],\n",
       "        [67.49],\n",
       "        [66.53],\n",
       "        [65.44],\n",
       "        [69.52],\n",
       "        [65.81],\n",
       "        [67.82],\n",
       "        [70.6 ],\n",
       "        [71.8 ],\n",
       "        [69.21],\n",
       "        [66.8 ],\n",
       "        [67.66],\n",
       "        [67.81],\n",
       "        [64.05],\n",
       "        [68.57],\n",
       "        [65.18],\n",
       "        [69.66],\n",
       "        [67.97],\n",
       "        [65.98],\n",
       "        [68.67],\n",
       "        [66.88],\n",
       "        [67.7 ],\n",
       "        [69.82],\n",
       "        [69.09],\n",
       "        [69.91],\n",
       "        [67.33],\n",
       "        [70.27],\n",
       "        [69.1 ],\n",
       "        [65.38],\n",
       "        [70.18],\n",
       "        [70.41],\n",
       "        [66.54],\n",
       "        [66.36],\n",
       "        [67.54],\n",
       "        [66.5 ],\n",
       "        [69.  ],\n",
       "        [68.3 ],\n",
       "        [67.01],\n",
       "        [70.81],\n",
       "        [68.22],\n",
       "        [69.06],\n",
       "        [67.73],\n",
       "        [67.22],\n",
       "        [67.37],\n",
       "        [65.27],\n",
       "        [70.84],\n",
       "        [69.92],\n",
       "        [64.29],\n",
       "        [68.25],\n",
       "        [66.36],\n",
       "        [68.36],\n",
       "        [65.48],\n",
       "        [69.72],\n",
       "        [67.73],\n",
       "        [68.64],\n",
       "        [66.78],\n",
       "        [70.05],\n",
       "        [66.28],\n",
       "        [69.2 ],\n",
       "        [69.13],\n",
       "        [67.36],\n",
       "        [70.09],\n",
       "        [70.18],\n",
       "        [68.23],\n",
       "        [68.13],\n",
       "        [70.24],\n",
       "        [71.49],\n",
       "        [69.2 ],\n",
       "        [70.06],\n",
       "        [70.56],\n",
       "        [66.29],\n",
       "        [63.43],\n",
       "        [66.77],\n",
       "        [68.89],\n",
       "        [64.87],\n",
       "        [67.09],\n",
       "        [68.35],\n",
       "        [65.61],\n",
       "        [67.76],\n",
       "        [68.02],\n",
       "        [67.66],\n",
       "        [66.31],\n",
       "        [69.44],\n",
       "        [63.84],\n",
       "        [67.72],\n",
       "        [70.05],\n",
       "        [70.19],\n",
       "        [65.95],\n",
       "        [70.01],\n",
       "        [68.61],\n",
       "        [68.81],\n",
       "        [69.76],\n",
       "        [65.46],\n",
       "        [68.83],\n",
       "        [65.8 ],\n",
       "        [67.21],\n",
       "        [69.42],\n",
       "        [68.94],\n",
       "        [67.94],\n",
       "        [65.63],\n",
       "        [66.5 ],\n",
       "        [67.93],\n",
       "        [68.89],\n",
       "        [70.24],\n",
       "        [68.27],\n",
       "        [71.23],\n",
       "        [69.1 ],\n",
       "        [64.4 ],\n",
       "        [71.1 ],\n",
       "        [68.22],\n",
       "        [65.92],\n",
       "        [67.44],\n",
       "        [73.9 ],\n",
       "        [69.98],\n",
       "        [69.52],\n",
       "        [65.18],\n",
       "        [68.01],\n",
       "        [68.34],\n",
       "        [65.18],\n",
       "        [68.26],\n",
       "        [68.57],\n",
       "        [64.5 ],\n",
       "        [68.71],\n",
       "        [68.89],\n",
       "        [69.54],\n",
       "        [67.4 ],\n",
       "        [66.48],\n",
       "        [66.01],\n",
       "        [72.44],\n",
       "        [64.13],\n",
       "        [70.98],\n",
       "        [67.5 ],\n",
       "        [72.02],\n",
       "        [65.31],\n",
       "        [67.08],\n",
       "        [64.39],\n",
       "        [69.37],\n",
       "        [68.38],\n",
       "        [65.31],\n",
       "        [67.14],\n",
       "        [68.39],\n",
       "        [66.29],\n",
       "        [67.19],\n",
       "        [65.99],\n",
       "        [69.43],\n",
       "        [67.97],\n",
       "        [67.76],\n",
       "        [65.28],\n",
       "        [73.83],\n",
       "        [66.81],\n",
       "        [66.89],\n",
       "        [65.74],\n",
       "        [65.98],\n",
       "        [66.58],\n",
       "        [67.11],\n",
       "        [65.87],\n",
       "        [66.78],\n",
       "        [68.74],\n",
       "        [66.23],\n",
       "        [65.96],\n",
       "        [68.58],\n",
       "        [66.59],\n",
       "        [66.97],\n",
       "        [68.08],\n",
       "        [70.19],\n",
       "        [65.52],\n",
       "        [67.46],\n",
       "        [67.41],\n",
       "        [69.66],\n",
       "        [65.8 ],\n",
       "        [66.11],\n",
       "        [68.24],\n",
       "        [68.02],\n",
       "        [71.39]]),\n",
       " array([112.99, 136.49, 153.03, 142.34, 144.3 , 123.3 , 141.49, 136.46,\n",
       "        112.37, 120.67, 127.45, 114.14, 125.61, 122.46, 116.09, 140.  ,\n",
       "        129.5 , 142.97, 137.9 , 124.04, 141.28, 143.54,  97.9 , 129.5 ,\n",
       "        141.85, 129.72, 142.42, 131.55, 108.33, 113.89, 103.3 , 120.75,\n",
       "        125.79, 136.22, 140.1 , 128.75, 141.8 , 121.23, 131.35, 106.71,\n",
       "        124.36, 124.86, 139.67, 137.37, 106.45, 128.76, 145.68, 116.82,\n",
       "        143.62, 134.93, 147.02, 126.33, 125.48, 115.71, 123.49, 147.89,\n",
       "        155.9 , 128.07, 119.37, 133.81, 128.73, 137.55, 129.76, 128.82,\n",
       "        135.32, 109.61, 142.47, 132.75, 103.53, 124.73, 129.31, 134.02,\n",
       "        140.4 , 102.84, 128.52, 120.3 , 138.6 , 132.96, 115.62, 122.52,\n",
       "        134.63, 121.9 , 155.38, 128.94, 129.1 , 139.47, 140.89, 131.59,\n",
       "        121.12, 131.51, 136.55, 141.49, 140.61, 112.14, 133.46, 131.8 ,\n",
       "        120.03, 123.1 , 128.14, 115.48, 102.09, 130.35, 134.18,  98.64,\n",
       "        114.56, 123.49, 123.05, 126.48, 128.42, 127.19, 122.06, 127.61,\n",
       "        131.64, 111.9 , 122.04, 128.55, 132.68, 136.06, 115.94, 136.9 ,\n",
       "        119.88, 109.01, 128.27, 135.29, 106.86, 123.29, 109.51, 119.31,\n",
       "        140.24, 133.98, 132.58, 130.7 , 115.56, 123.79, 128.14, 135.96,\n",
       "        116.63, 126.82, 151.39, 130.4 , 136.21, 113.4 , 125.33, 127.58,\n",
       "        107.16, 116.46, 133.84, 112.89, 130.76, 137.76, 125.4 , 138.47,\n",
       "        120.82, 140.15, 136.74, 106.11, 158.96, 108.79, 138.78, 115.91,\n",
       "        146.29, 109.88, 139.05, 119.9 , 128.31, 127.24, 115.23, 124.8 ,\n",
       "        126.95, 111.27, 122.61, 124.21, 124.65, 119.52, 139.3 , 104.83,\n",
       "        123.04, 118.89, 121.49, 119.25, 135.02, 116.23, 109.17, 124.22,\n",
       "        141.16, 129.15, 127.87, 120.92, 127.65, 101.47, 144.99, 110.95,\n",
       "        132.86, 146.34, 145.59, 120.84, 115.78, 128.3 , 127.47, 127.88])]"
      ]
     },
     "execution_count": 15,
     "metadata": {},
     "output_type": "execute_result"
    }
   ],
   "source": [
    "X2=data['Height'].values\n",
    "Y=data['Weight'].values\n",
    "X=X2.reshape(-1,1)\n",
    "[X,Y]\n",
    "\n"
   ]
  },
  {
   "cell_type": "code",
   "execution_count": 16,
   "metadata": {},
   "outputs": [
    {
     "data": {
      "text/plain": [
       "array([123.3 , 136.74, 119.52, 120.92, 128.42, 139.3 , 124.21, 132.96,\n",
       "       122.52, 126.33, 132.68, 106.11, 129.5 , 103.53, 126.95, 112.14,\n",
       "       153.03, 116.82, 128.82, 120.82, 114.56, 109.51, 119.31, 113.4 ,\n",
       "       115.71, 109.01, 120.75, 134.93, 127.65, 103.3 , 101.47, 119.37,\n",
       "       142.97, 137.55, 106.86, 136.21, 127.61, 136.49, 128.07, 138.78,\n",
       "       141.49, 127.47, 121.12, 120.67, 106.71, 133.81, 151.39, 108.79,\n",
       "        98.64, 121.49,  97.9 , 140.  , 141.28, 115.23, 116.23, 136.06,\n",
       "       121.23, 124.36, 131.51, 142.47, 122.46, 134.63, 138.47, 140.61,\n",
       "       111.9 , 116.63, 132.58, 115.48, 112.89, 147.02, 137.37, 131.64,\n",
       "       125.48, 131.35, 141.8 , 128.75, 138.6 , 111.27, 143.54, 123.04,\n",
       "       131.8 , 129.76, 146.29, 106.45, 145.59, 141.85, 123.05, 133.84,\n",
       "       128.14, 136.55, 125.79, 125.4 , 129.15, 127.24, 139.67, 109.17,\n",
       "       129.5 , 123.49, 112.37, 130.76, 132.75, 139.47, 133.46, 120.3 ,\n",
       "       140.1 , 140.89, 120.03, 128.76, 126.48, 137.76, 128.31, 122.06,\n",
       "       118.89, 119.88, 123.79, 136.46, 155.9 , 124.86, 127.45, 124.8 ,\n",
       "       115.56, 142.34, 104.83, 131.55, 119.25, 128.52, 115.94, 109.61,\n",
       "       145.68, 128.14, 123.1 , 129.31, 147.89, 128.73, 146.34, 136.22,\n",
       "       125.61, 140.24, 108.33, 119.9 , 140.15, 135.96, 136.9 , 137.9 ,\n",
       "       102.84, 127.58, 128.55, 110.95, 130.4 , 155.38, 144.3 , 135.29,\n",
       "       102.09, 133.98, 120.84, 116.46, 131.59, 132.86, 130.7 , 139.05])"
      ]
     },
     "execution_count": 16,
     "metadata": {},
     "output_type": "execute_result"
    }
   ],
   "source": [
    "x_train, x_test, y_train, y_test = train_test_split(X, Y, train_size=0.8, test_size=0.2, random_state=24)\n",
    "x_test\n",
    "x_train\n",
    "y_test\n",
    "y_train"
   ]
  },
  {
   "cell_type": "markdown",
   "metadata": {},
   "source": [
    "### Fit training split to the regression model"
   ]
  },
  {
   "cell_type": "code",
   "execution_count": 20,
   "metadata": {},
   "outputs": [],
   "source": [
    "model = LinearRegression()\n",
    "model.fit(x_train, y_train)\n",
    "model\n",
    "y_predict = model.predict(x_test)\n",
    "train_accuracy = model.score(x_train, y_train)\n",
    "test_accuracy = model.score(x_test, y_test)\n"
   ]
  },
  {
   "cell_type": "code",
   "execution_count": 23,
   "metadata": {},
   "outputs": [
    {
     "data": {
      "text/plain": [
       "array([128.20961816, 112.80262946, 124.18279157, 119.07047259,\n",
       "       133.74212774, 120.75123499, 118.4051708 , 135.03771542,\n",
       "       117.94996432, 127.40425284, 134.09228657, 135.21279484,\n",
       "       128.34968169, 124.60298217, 117.49475784, 128.59479288,\n",
       "       137.31374785, 125.1632363 , 118.1950755 , 119.59571084,\n",
       "       126.52885576, 121.34650501, 124.3228551 , 129.4001582 ,\n",
       "       139.23962143, 131.57114297, 121.17142559, 132.3414924 ,\n",
       "       129.96041233, 126.03863339, 125.40834749, 137.80397021,\n",
       "       133.3919689 , 137.31374785, 123.09729918, 124.25282333,\n",
       "       114.72850305, 132.37650829, 137.2087002 , 134.40742952])"
      ]
     },
     "execution_count": 23,
     "metadata": {},
     "output_type": "execute_result"
    }
   ],
   "source": [
    "\n",
    "\n"
   ]
  },
  {
   "cell_type": "code",
   "execution_count": 26,
   "metadata": {},
   "outputs": [
    {
     "data": {
      "text/plain": [
       "array([112.99, 136.49, 153.03, 142.34, 144.3 , 123.3 , 141.49, 136.46,\n",
       "       112.37, 120.67, 127.45, 114.14, 125.61, 122.46, 116.09, 140.  ,\n",
       "       129.5 , 142.97, 137.9 , 124.04, 141.28, 143.54,  97.9 , 129.5 ,\n",
       "       141.85, 129.72, 142.42, 131.55, 108.33, 113.89, 103.3 , 120.75,\n",
       "       125.79, 136.22, 140.1 , 128.75, 141.8 , 121.23, 131.35, 106.71,\n",
       "       124.36, 124.86, 139.67, 137.37, 106.45, 128.76, 145.68, 116.82,\n",
       "       143.62, 134.93, 147.02, 126.33, 125.48, 115.71, 123.49, 147.89,\n",
       "       155.9 , 128.07, 119.37, 133.81, 128.73, 137.55, 129.76, 128.82,\n",
       "       135.32, 109.61, 142.47, 132.75, 103.53, 124.73, 129.31, 134.02,\n",
       "       140.4 , 102.84, 128.52, 120.3 , 138.6 , 132.96, 115.62, 122.52,\n",
       "       134.63, 121.9 , 155.38, 128.94, 129.1 , 139.47, 140.89, 131.59,\n",
       "       121.12, 131.51, 136.55, 141.49, 140.61, 112.14, 133.46, 131.8 ,\n",
       "       120.03, 123.1 , 128.14, 115.48, 102.09, 130.35, 134.18,  98.64,\n",
       "       114.56, 123.49, 123.05, 126.48, 128.42, 127.19, 122.06, 127.61,\n",
       "       131.64, 111.9 , 122.04, 128.55, 132.68, 136.06, 115.94, 136.9 ,\n",
       "       119.88, 109.01, 128.27, 135.29, 106.86, 123.29, 109.51, 119.31,\n",
       "       140.24, 133.98, 132.58, 130.7 , 115.56, 123.79, 128.14, 135.96,\n",
       "       116.63, 126.82, 151.39, 130.4 , 136.21, 113.4 , 125.33, 127.58,\n",
       "       107.16, 116.46, 133.84, 112.89, 130.76, 137.76, 125.4 , 138.47,\n",
       "       120.82, 140.15, 136.74, 106.11, 158.96, 108.79, 138.78, 115.91,\n",
       "       146.29, 109.88, 139.05, 119.9 , 128.31, 127.24, 115.23, 124.8 ,\n",
       "       126.95, 111.27, 122.61, 124.21, 124.65, 119.52, 139.3 , 104.83,\n",
       "       123.04, 118.89, 121.49, 119.25, 135.02, 116.23, 109.17, 124.22,\n",
       "       141.16, 129.15, 127.87, 120.92, 127.65, 101.47, 144.99, 110.95,\n",
       "       132.86, 146.34, 145.59, 120.84, 115.78, 128.3 , 127.47, 127.88])"
      ]
     },
     "execution_count": 26,
     "metadata": {},
     "output_type": "execute_result"
    }
   ],
   "source": [
    "Y"
   ]
  },
  {
   "cell_type": "code",
   "execution_count": 24,
   "metadata": {},
   "outputs": [
    {
     "data": {
      "text/plain": [
       "0.3493463125510218"
      ]
     },
     "execution_count": 24,
     "metadata": {},
     "output_type": "execute_result"
    }
   ],
   "source": [
    "test_accuracy"
   ]
  },
  {
   "cell_type": "code",
   "execution_count": 25,
   "metadata": {},
   "outputs": [
    {
     "data": {
      "text/plain": [
       "0.3024473249719486"
      ]
     },
     "execution_count": 25,
     "metadata": {},
     "output_type": "execute_result"
    }
   ],
   "source": [
    "train_accuracy"
   ]
  },
  {
   "cell_type": "code",
   "execution_count": 27,
   "metadata": {},
   "outputs": [
    {
     "data": {
      "text/plain": [
       "Text(0.5, 1.0, 'H & W data')"
      ]
     },
     "execution_count": 27,
     "metadata": {},
     "output_type": "execute_result"
    },
    {
     "data": {
      "image/png": "[encoded data removed]",
      "text/plain": [
       "<Figure size 432x288 with 1 Axes>"
      ]
     },
     "metadata": {
      "needs_background": "light"
     },
     "output_type": "display_data"
    }
   ],
   "source": [
    "plt.scatter(X,Y,color='blue')\n",
    "plt.xlabel('Highet')\n",
    "plt.ylabel('Wighet')\n",
    "plt.title('H & W data')"
   ]
  },
  {
   "cell_type": "code",
   "execution_count": 28,
   "metadata": {},
   "outputs": [
    {
     "data": {
      "text/plain": [
       "Text(0.5, 1.0, 'H & W data')"
      ]
     },
     "execution_count": 28,
     "metadata": {},
     "output_type": "execute_result"
    },
    {
     "data": {
      "image/png": "[encoded data removed]",
      "text/plain": [
       "<Figure size 432x288 with 1 Axes>"
      ]
     },
     "metadata": {
      "needs_background": "light"
     },
     "output_type": "display_data"
    }
   ],
   "source": [
    "plt.scatter(x_test,y_test,color='blue')\n",
    "plt.scatter(x_test,y_predict,color='red')\n",
    "plt.xlabel('Highet')\n",
    "plt.ylabel('Wighet')\n",
    "plt.title('H & W data')\n"
   ]
  },
  {
   "cell_type": "code",
   "execution_count": 29,
   "metadata": {},
   "outputs": [
    {
     "data": {
      "text/plain": [
       "Text(0.5, 1.0, 'H & W data')"
      ]
     },
     "execution_count": 29,
     "metadata": {},
     "output_type": "execute_result"
    },
    {
     "data": {
      "image/png": "[encoded data removed]",
      "text/plain": [
       "<Figure size 432x288 with 1 Axes>"
      ]
     },
     "metadata": {
      "needs_background": "light"
     },
     "output_type": "display_data"
    }
   ],
   "source": [
    "plt.scatter(x_test,y_predict,color='red')\n",
    "plt.xlabel('Highet')\n",
    "plt.ylabel('Wighet')\n",
    "plt.title('H & W data')"
   ]
  },
  {
   "cell_type": "code",
   "execution_count": null,
   "metadata": {},
   "outputs": [],
   "source": []
  }
 ],
 "metadata": {
  "interpreter": {
   "hash": "2fff4e3e7ab3c720ac926998ca90fe2d701d5fc5d0bcffd2087279a9740309fd"
  },
  "kernelspec": {
   "display_name": "Python 3.9.5 64-bit ('.venv': poetry)",
   "language": "python",
   "name": "python3"
  },
  "language_info": {
   "codemirror_mode": {
    "name": "ipython",
    "version": 3
   },
   "file_extension": ".py",
   "mimetype": "text/x-python",
   "name": "python",
   "nbconvert_exporter": "python",
   "pygments_lexer": "ipython3",
   "version": "3.9.5"
  },
  "orig_nbformat": 4
 },
 "nbformat": 4,
 "nbformat_minor": 2
}
